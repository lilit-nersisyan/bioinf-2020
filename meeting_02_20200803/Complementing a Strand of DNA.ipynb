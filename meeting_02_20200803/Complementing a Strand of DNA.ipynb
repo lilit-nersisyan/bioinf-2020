{
 "cells": [
  {
   "cell_type": "markdown",
   "metadata": {},
   "source": [
    "# Complementing a Strand of DNA\n",
    "\n",
    "http://rosalind.info/problems/revc/ \n",
    "\n",
    "**Problem**\n",
    "\n",
    "In DNA strings, symbols 'A' and 'T' are complements of each other, as are 'C' and 'G'.\n",
    "\n",
    "The reverse complement of a DNA string s is the string sc formed by reversing the symbols of s, then taking the complement of each symbol (e.g., the reverse complement of \"GTCA\" is \"TGAC\").\n",
    "\n",
    "**Given:** A DNA string s of length at most 1000 bp.\n",
    "\n",
    "**Return:** The reverse complement sc of s.\n",
    "\n",
    "*Sample Dataset*\n",
    "\n",
    "AAAACCCGGT\n",
    "\n",
    "*Sample Output* \n",
    "\n",
    "ACCGGGTTTT"
   ]
  },
  {
   "cell_type": "markdown",
   "metadata": {},
   "source": [
    "______________________________________________________________________"
   ]
  },
  {
   "cell_type": "markdown",
   "metadata": {},
   "source": [
    "*implement a complement function*"
   ]
  },
  {
   "cell_type": "code",
   "execution_count": null,
   "metadata": {},
   "outputs": [],
   "source": [
    "def complement(n):\n",
    "    switcher = {\n",
    "        'A':'T', \n",
    "        'T':'A',\n",
    "        'G':'C',\n",
    "        'C':'G'\n",
    "    }\n",
    "    return switcher[n]\n"
   ]
  },
  {
   "cell_type": "markdown",
   "metadata": {},
   "source": [
    "*apply the complement function on each base in the input* \n",
    "\n",
    "**[complement(n) for n in s]**\n",
    "\n",
    "*then take the reverse order of bases* \n",
    "\n",
    "[complement(n) for n in s]**[::-1]**  \n",
    "\n",
    "*and turn them into a string of characters*\n",
    "\n",
    "**''.join(**[complement(n) for n in s][::-1]**)**"
   ]
  },
  {
   "cell_type": "code",
   "execution_count": 14,
   "metadata": {},
   "outputs": [
    {
     "name": "stdout",
     "output_type": "stream",
     "text": [
      "GCGGCGAAGTTATCGCGCTTTTTACGTCTGCTTAGCTTGCTGCTGCGCCAAGGTTGTCACGCGTTGTATTGGTGCGTTTGATGACTAATACAAAAAGCTTCTAGGTAGTGACGGAATCCGTCAAGGAGGAGTCGGGTATAGCTCTCCCTACGTGTACCCCTAACGCGTTAACGTCGCAGCCCAAGATTATTGTACACTGTCAAAAGGTAATAGTTTGGCTTATCGCCAGGGAAAGTCAGGCCAGAACAAAAATTAACGGTACGAGACTAACAGACGCGCTGTAATAAAGGAAAAGTAGGGTTACCCACGTGGGTGGTATGTATGTGACCTGGAGGACGTCTTAGCTAAATAGAACAAATGCAATGATCCGCTCAAATAGTATATCAGTTAGGACCTACAAAGAGAAAGTTATCAACGAATCATGCGTTACCCGTTCAGCGTGCCCACGGCTGCACAGAAATTAGAATGGATCTGGGGCAGGAACCAACCGGCTCGAACCTATCAGACCCTCTAACTTCAGTTGCTAGAGTTCCAACGGCTTGATAGGCGGAGGCATGTCATGATACTGAGGGACATCTTACGACTCAGCGTGGTGCGACAGGTTCAGTAACGGATTGTTACACCTCAAGGACAAAAGTCCACCCTGCATGTGCCGATAACAGCTGTTAGTATTATAGGCATATCTCGTCAAACGCTGGCAAAGGTGTCTTGACGTACGATAAGACGGTGACTACTCTTCTGTGCGCATTACTAGTAACTACTTTCAATCTTTCGGGATGGCGTTATATCGTGTCTCGTTGGCACTGTTTAAATCTGGATAAATAAACACGAC\n"
     ]
    }
   ],
   "source": [
    "with open(\"rosalind_revc.txt\", \"r\") as f:\n",
    "    s = f.readline().strip()\n",
    "\n",
    "rc = ''.join([complement(n) for n in s][::-1])\n",
    "\n",
    "print(rc)"
   ]
  }
 ],
 "metadata": {
  "kernelspec": {
   "display_name": "Python 3",
   "language": "python",
   "name": "python3"
  },
  "language_info": {
   "codemirror_mode": {
    "name": "ipython",
    "version": 3
   },
   "file_extension": ".py",
   "mimetype": "text/x-python",
   "name": "python",
   "nbconvert_exporter": "python",
   "pygments_lexer": "ipython3",
   "version": "3.6.5"
  }
 },
 "nbformat": 4,
 "nbformat_minor": 2
}
