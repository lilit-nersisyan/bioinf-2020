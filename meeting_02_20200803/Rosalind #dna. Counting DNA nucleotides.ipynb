{
 "cells": [
  {
   "cell_type": "markdown",
   "metadata": {},
   "source": [
    "# Counting DNA Nucleotides"
   ]
  },
  {
   "cell_type": "markdown",
   "metadata": {},
   "source": [
    "http://rosalind.info/problems/dna/ \n",
    "\n",
    "**Problem**\n",
    "A string is simply an ordered collection of symbols selected from some alphabet and formed into a word; the length of a string is the number of symbols that it contains.\n",
    "\n",
    "An example of a length 21 DNA string (whose alphabet contains the symbols 'A', 'C', 'G', and 'T') is \"ATGCTTCAGAAAGGTCTTACG.\"\n",
    "\n",
    "**Given:** A DNA string s of length at most 1000 nt.\n",
    "\n",
    "**Return:** Four integers (separated by spaces) counting the respective number of times that the symbols 'A', 'C', 'G', and 'T' occur in s.\n",
    "\n",
    "*Sample Dataset*\n",
    "\n",
    "AGCTTTTCATTCTGACTGCAACGGGCAATATGTCTCTGTGTGGATTAAAAAAAGAGTGTCTGATAGCAGC\n",
    "\n",
    "*Sample Output*\n",
    "\n",
    "20 12 17 21"
   ]
  },
  {
   "cell_type": "markdown",
   "metadata": {},
   "source": [
    "________________________________________________________________________________________________________________________________"
   ]
  },
  {
   "cell_type": "markdown",
   "metadata": {},
   "source": [
    "*Read in the input*"
   ]
  },
  {
   "cell_type": "code",
   "execution_count": 2,
   "metadata": {},
   "outputs": [
    {
     "name": "stdout",
     "output_type": "stream",
     "text": [
      "GAAGGTCACAGTGACGGTATGGCGCACCCATGGATTGCTTCACCGCGGTGATACATAGTCGATTTGGCTACCCCACCACCGAGTAGGAATCGATAGATTCTTCTTTCTTATAGAGCCTGAAGGTCTGCCAGACGAGTACCTAAATAGTTTATGTTGTTCGTCGAGAAGGGCATCTGGTCAGTACATTTATACGAACCTCCCCTGATGTAAATTCACCCGGGATGATGCACAATCCATTATAGTGTGCCCCGACCCCGCCTTCAACTTAATGCTGAAATGAACGTGCTCGAGTTTGCTTTATTCCTGGTCATACGCTGGGAGTGCAGACGAGTCCTCTGGAGCCAGATTGAGGGTATAGGTCGCGGACCCTAGTGCCAAAGCCCCCGAGGGGAGGCACATAGAGCTAGATGATCGACTCTCGGCTCGAAAACAGTTGACTCTTATCGCCCTCGGGTTACCGCACGACGTGACCCGGAGGCAACCTGCACAACTGGCTAATTTGGGGACACGTCCAACCTCGTGTAATCGTAGAAAAGATAGTTCATGGCACTTTGCTTTAGACACCCATCTTGTCTCCATGAATAACGGAGCTTGGATCAGATTTTGGGCCTGACAGAGTAGAATAACGCCAGCGGGTTACTCTGGAGGACAAAATAATGGCCGTGAAGCTAGCGAGTAGTCTCCTTAGTCCATTGAGGCCTGCGCGGCTTGGCCATTTCTTGAGTAGTAGAATTTAATCTTCCATCTGGTTGGGCAAGATATACCGGTAGCTAGGACAGTAGTAGCCGATTGCCCAGTCATCACGCCAGCAGCGCTAAAGATTAAGTCGTTGATCCTGGTGAAAAAAAAACGAGTCATTCCGAGTGACCGTGTGAGACCCACGACTTCCATGCGAACTAACCGGAGGAGAGTAGGGGA\n"
     ]
    }
   ],
   "source": [
    "with open(\"rosalind_dna.txt\", \"r\") as f:\n",
    "    s = f.read().strip()\n",
    "\n",
    "print(s)\n"
   ]
  },
  {
   "cell_type": "markdown",
   "metadata": {},
   "source": [
    "*Count base (nucleotide) frequencies*"
   ]
  },
  {
   "cell_type": "code",
   "execution_count": 3,
   "metadata": {},
   "outputs": [
    {
     "data": {
      "text/plain": [
       "{'A': 235, 'C': 222, 'G': 240, 'T': 221}"
      ]
     },
     "execution_count": 3,
     "metadata": {},
     "output_type": "execute_result"
    }
   ],
   "source": [
    "n_dict = {'A':0, 'C':0, 'G':0, 'T':0}\n",
    "\n",
    "for n in s:    \n",
    "    n_dict[n] += 1     \n",
    "\n",
    "n_dict"
   ]
  },
  {
   "cell_type": "markdown",
   "metadata": {},
   "source": [
    "*Format the answer*"
   ]
  },
  {
   "cell_type": "code",
   "execution_count": 4,
   "metadata": {},
   "outputs": [
    {
     "name": "stdout",
     "output_type": "stream",
     "text": [
      "235 222 240 221\n"
     ]
    }
   ],
   "source": [
    "print(' '.join([str(v) for v in n_dict.values()]))"
   ]
  },
  {
   "cell_type": "markdown",
   "metadata": {},
   "source": [
    "## shorter solution (longer runtime)"
   ]
  },
  {
   "cell_type": "code",
   "execution_count": 7,
   "metadata": {},
   "outputs": [
    {
     "name": "stdout",
     "output_type": "stream",
     "text": [
      "235 222 240 221\n"
     ]
    }
   ],
   "source": [
    "print(*map(s.count, \"ACGT\")) \n",
    "# this is the elegant version of s.count(\"A\"), s.count(\"G\"), s.count(\"C\"), s.count(\"T\")\n",
    "# it takes longer because the string is scanned four times (ones for each letter) "
   ]
  }
 ],
 "metadata": {
  "kernelspec": {
   "display_name": "Python 3",
   "language": "python",
   "name": "python3"
  },
  "language_info": {
   "codemirror_mode": {
    "name": "ipython",
    "version": 3
   },
   "file_extension": ".py",
   "mimetype": "text/x-python",
   "name": "python",
   "nbconvert_exporter": "python",
   "pygments_lexer": "ipython3",
   "version": "3.6.5"
  }
 },
 "nbformat": 4,
 "nbformat_minor": 2
}
