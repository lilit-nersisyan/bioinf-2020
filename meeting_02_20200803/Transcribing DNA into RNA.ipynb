{
 "cells": [
  {
   "cell_type": "markdown",
   "metadata": {},
   "source": [
    "# Transcribing DNA into RNA\n",
    "\n",
    "**Problem**\n",
    "An RNA string is a string formed from the alphabet containing 'A', 'C', 'G', and 'U'.\n",
    "\n",
    "Given a DNA string t corresponding to a coding strand, its transcribed RNA string u is formed by replacing all occurrences of 'T' in t with 'U' in u.\n",
    "\n",
    "**Given:** A DNA string t having length at most 1000 nt.\n",
    "\n",
    "**Return:** The transcribed RNA string of t.\n",
    "\n",
    "*Sample Dataset*\n",
    "\n",
    "GATGGAACTTGACTACGTAAATT\n",
    "\n",
    "*Sample Output*\n",
    "\n",
    "GAUGGAACUUGACUACGUAAAUU"
   ]
  },
  {
   "cell_type": "code",
   "execution_count": 7,
   "metadata": {},
   "outputs": [
    {
     "name": "stdout",
     "output_type": "stream",
     "text": [
      "UUCGGUUUCCGCCUAUGGCGCGCGUUCUUUUAAAACUGUAGCGAGGGAGCUGCGUGGCUCUGAGCAUACACCCCUAGAACACUAACCCUUGUUUCAGCAACCAGCUUGUGGGUCUAGUCAAUAAAUUUACUUCGAAAUUAACAAAAAGUCUAGAUUACGGUGCCCUUACGGAUCGGUAAUGCAAGAUCUAUUCACCAGUCAGUUGAGGAUAACAGUUAAUAUAAAAGAUUACUCGCCCCACCAACUCGCCAUUGGCCUCAUGUCGGUGGGCAAGUACACUUUGCUUCCAUACAGAUCCUACCAUACCAAGAGGGGCUUUGCUUGACCCUUUACGGUGCUGUUUGGCAUAAUAAAGAUCGAAGAUCGACGAUCGUUACUCGGAGAAGAAUUCUGGGCCAGUGGUCUUUUAAUUGCGGCACAGCCUGGUUGUAGCGAUAGUCCAAUCCGCUAACAGGAUAGGCCUCGACAACAUGCCACAUUGCUUAGCGGGCGGACACCACUCGCCGUACAUGAGCUCCCAUAGAGGUUACACUCUUGAAACGAGCCACGCGGAGUCGGGACGGCUAAAGGGCUAUAGGAUAAUUGCUGUAUGUCAUCUAUCCGUGGACAACUAACUCACACACCAGAACGCGUGCCCCCUGGCUUUCCAGUGCGCGUUUAGUCGUAGGGCUAAACACCGGGCAUAAGCCACAAUAUCCGCGGCGUCGUAGGAUGUACGAGAGUCUUUGGGCUCAAGGUAUCUGCCAUAGUCACUACGUGCCCAUUCCGGUUAAUGACUAAACCCCAGUUAGGGUGUACUGCCUACAUGCGCUGUUGAGACGGAGGCAUGCCCACCAGAUCUGUAGGUCGCUCGUCAGUCCGACCACUUAUACCAGAAACCAGUGUUGAGUAGUUCACUACGGAGCUACAGCAUCGCUAAGGCUGACUCGGUAUCGUAAC\n"
     ]
    }
   ],
   "source": [
    "with open (\"rosalind_rna.txt\", 'r') as f: \n",
    "    dna = f.read().strip()\n",
    "    \n",
    "rna = dna.replace('T', 'U')\n",
    "\n",
    "print(rna)"
   ]
  }
 ],
 "metadata": {
  "kernelspec": {
   "display_name": "Python 3",
   "language": "python",
   "name": "python3"
  },
  "language_info": {
   "codemirror_mode": {
    "name": "ipython",
    "version": 3
   },
   "file_extension": ".py",
   "mimetype": "text/x-python",
   "name": "python",
   "nbconvert_exporter": "python",
   "pygments_lexer": "ipython3",
   "version": "3.6.5"
  }
 },
 "nbformat": 4,
 "nbformat_minor": 2
}
