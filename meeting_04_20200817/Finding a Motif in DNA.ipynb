{
 "cells": [
  {
   "cell_type": "markdown",
   "metadata": {},
   "source": [
    "# Finding a Motif in DNA\n",
    "\n",
    "**Problem**\n",
    "\n",
    "Given two strings s and t, t is a substring of s if t is contained as a contiguous collection of symbols in s (as a result, t must be no longer than s).\n",
    "\n",
    "The position of a symbol in a string is the total number of symbols found to its left, including itself (e.g., the positions of all occurrences of 'U' in \"AUGCUUCAGAAAGGUCUUACG\" are 2, 5, 6, 15, 17, and 18). The symbol at position i of s is denoted by s[i].\n",
    "\n",
    "A substring of s can be represented as s[j:k], where j and k represent the starting and ending positions of the substring in s; for example, if s = \"AUGCUUCAGAAAGGUCUUACG\", then s[2:5] = \"UGCU\".\n",
    "\n",
    "The location of a substring s[j:k] is its beginning position j; note that t will have multiple locations in s if it occurs more than once as a substring of s (see the Sample below).\n",
    "\n",
    "**Given:** Two DNA strings s and t (each of length at most 1 kbp).\n",
    "\n",
    "**Return:** All locations of t as a substring of s.\n",
    "\n",
    "**Sample Dataset**\n",
    "\n",
    "GATATATGCATATACTT\n",
    "\n",
    "ATAT\n",
    "\n",
    "**Sample Output **\n",
    "\n",
    "2 4 10\n",
    "\n",
    "_____________"
   ]
  },
  {
   "cell_type": "code",
   "execution_count": 35,
   "metadata": {},
   "outputs": [
    {
     "name": "stdout",
     "output_type": "stream",
     "text": [
      "Sequence: CCGTAATGTCGTAATGTGTAATGTCAGGTAATGTGTAATGTGACCTCGTAATGTGTCCTCGCCGTAATGTTGTAATGTGTAATGTGTGTGCGATGTGACGGTAATGTCTGTAATGTCTGCGTAATGTGTAATGTGCGTAATGTGGTAATGTCGTAATGTCGTAATGTTAATGTAATGTCAATGTAATGTTAGGTAATGTCTTCACGAGACTTGTAATGTCTGTAATGTTTCGTAATGTGACCAAGTAATGTCCCCAAATTAGTAATGTTTGGGCAAGTCGTAATGTGTAATGTGGTAATGTGTAATGTACGTCCTCAGCTGTAATGTGTAATGTTTAGTAATGTCTCAGAACGGTGTAATGTGGGCGTAATGTCCGTAATGTGTAATGTCTCCCGGTAATGTCACTGGTAATGTGCTGACATCGATGTAATGTGGTAATGTGTAATGTAGTAATGTGTAATGTGTAATGTGGTCGACCTTCGGATGTAATGTGCGTAATGTTCTTCGTAATGTTCAAGTAATGTTAGTAATGTATTTATGGGTAATGTTCAATCGTAATGTGTAATGTGGGCCTGAGAAGGCTGTAATGTGTAATGTTTCACTGGGGTAATGTAGTAATGTCGGTGTAATGTTATCGTAATGTGTAATGTATAGTAATGTGGTAGTAATGTACGGTGCTGGTAATGTGTAATGTTGTAATGTGGTAATGTAGTAATGTGGTAATGTTCTGTAATGTACCTGTAATGTCTACGTAATGTCGTAATGTTCCGTAATGTCCATTTAACGTAATGTACTATTACAGTAATGTGTAATGTTTTGTAATGTAACAGTAATGTGACTGTAATGTCCACGTAATGTGTAATGTATGTAATGTAGAGTAATGTCGTAGTAATGTTGTGGTAATGTTGCATGGTAATGTGTAATGT\n",
      "Motif: GTAATGTGT\n"
     ]
    }
   ],
   "source": [
    "with open(\"rosalind_subs.txt\", \"r\") as f: \n",
    "    seq = f.readline().strip()\n",
    "    motif = f.readline().strip()\n",
    "    \n",
    "print(\"Sequence: %s\" % seq)\n",
    "print(\"Motif: %s\" % motif)\n"
   ]
  },
  {
   "cell_type": "code",
   "execution_count": 36,
   "metadata": {},
   "outputs": [
    {
     "name": "stdout",
     "output_type": "stream",
     "text": [
      "11 28 48 72 79 121 280 295 321 376 435 450 457 555 584 637 681 802 852 913\n"
     ]
    }
   ],
   "source": [
    "pos = list()\n",
    "cursor = 0 \n",
    "while cursor < len(seq): \n",
    "    # find the first occurence of the motif in the seq, starting from cursor's position\n",
    "    p = seq.find(motif, cursor)\n",
    "    \n",
    "    # if no motif has been found, finish the search\n",
    "    if p == -1: \n",
    "        break\n",
    "    \n",
    "    # otherwise, append the positions' list and move the cursor to the next position\n",
    "    # Note: we add 1 to p, as Rosalind accepts 1-based (not 0-based) positioning\n",
    "    pos.append(p+1)    \n",
    "    cursor = p + 1     \n",
    "    \n",
    "\n",
    "print(' '.join(map(str, pos)))\n",
    "    "
   ]
  }
 ],
 "metadata": {
  "kernelspec": {
   "display_name": "Python 3",
   "language": "python",
   "name": "python3"
  },
  "language_info": {
   "codemirror_mode": {
    "name": "ipython",
    "version": 3
   },
   "file_extension": ".py",
   "mimetype": "text/x-python",
   "name": "python",
   "nbconvert_exporter": "python",
   "pygments_lexer": "ipython3",
   "version": "3.6.5"
  }
 },
 "nbformat": 4,
 "nbformat_minor": 2
}
